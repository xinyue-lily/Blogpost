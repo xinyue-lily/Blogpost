{
 "cells": [
  {
   "cell_type": "markdown",
   "id": "3ce1a0b1",
   "metadata": {
    "colab_type": "text",
    "id": "view-in-github"
   },
   "source": [
    "<a href=\"https://colab.research.google.com/github/PhilChodrow/PIC16B/blob/master/lectures/tf/tf-1.ipynb\" target=\"_parent\"><img src=\"https://colab.research.google.com/assets/colab-badge.svg\" alt=\"Open In Colab\"/></a>"
   ]
  },
  {
   "cell_type": "markdown",
   "id": "affected-essex",
   "metadata": {
    "id": "affected-essex"
   },
   "source": [
    "# Advanced Machine Learning with TensorFlow\n",
    "\n",
    "In this lecture, we'll begin a relatively long arc in which we will learn to use the TensorFlow package for advanced machine learning, with an emphasis on neural networks.  \n",
    "\n",
    "## A Few Notes on Google and Ethics\n",
    "\n",
    "[TensorFlow](https://www.tensorflow.org/) is a Google product. By teaching you TensorFlow, I take a small step toward extending the influence of Google in the field of machine learning and in the STEM community more broadly. By using TensorFlow in and out of this class, you will do the same. It's important that we both go into this with open eyes about some of the ethical questions surrounding Google's recent work in machine learning. I'd like to stress that I am not an expert on ethics in artificial intelligence. There are likely MANY other important ethical concerns about Google's work  (and the work of other giants in tech and artificial intelligence, like Facebook and Amazon) which are not on my radar. \n",
    "\n",
    "### 1. Language Models and Dr. Timnit Gebru\n",
    "\n",
    "In December 2020, Google [fired](https://www.washingtonpost.com/technology/2020/12/03/timnit-gebru-google-fired/) prominent AI ethicist Dr. Timnit Gebru, an Ethiopian-American woman, over a sequence of events surrounding [one of her papers](https://faculty.washington.edu/ebender/papers/Stochastic_Parrots.pdf). In this paper, Gebru and coauthors raise ethical concerns about language models---like the ones that Google uses for predictive text applications. These concerns include:\n",
    "\n",
    "- The role of these models in homogenizing online culture. \n",
    "- The environmental cost of training these (in some cases, comparable to the carbon footprint of a transatlantic flight). \n",
    "- The frequent instances of language models learning to reproduce biased or hateful text. \n",
    "\n",
    "Dr. Gebru and her collaborators ultimately recommend a more thoughtful, \"small\", and ethically-informed approach to constructing language models. Naturally, this recommendation would require extensive reorganization of one of Google's major research areas. Possibly because they felt threatened by this and related recommendations, Google managers invented an additional, internal review layer for this paper, even after it had already been accepted at a prominent computer science conference. Dr. Gebru's protest of this made-up red tape was one of the events that led to her firing. \n",
    "\n",
    "Dr. Gebru's colleague Margaret Mitchell was [also recently fired](https://www.zdnet.com/article/google-fires-top-ethical-ai-expert-margaret-mitchell/) in the fall-out from this incident. \n",
    "\n",
    "### 2. Google Translate Is Sexist\n",
    "\n",
    "It is well-documented that machine learning algorithms trained on natural text can inherit biases present in those texts. One of the most direct ways in which we can observe such bias is in Google Translate. Some languages, such as Hungarian, do not possess gendered pronouns. When Google Translate attempts to render these pronouns into a gendered language like English, assumptions are made, as pointed out in [this Tweet by Dora Vargha](https://twitter.com/DoraVargha/status/1373211762108076034?ref_src=twsrc%5Etfw%7Ctwcamp%5Etweetembed%7Ctwterm%5E1373211762108076034%7Ctwgr%5E%7Ctwcon%5Es1_&ref_url=https%3A%2F%2Fd-7356743851859968838.ampproject.net%2F2103240330002%2Fframe.html).  Let's demonstrate with the following English sentences. \n",
    "\n",
    "> **he** cooks.\n",
    "> **she** is a political leader.\n",
    "> **she** is an engineer.\n",
    "> **he** is a cleaner.\n",
    "> **he** is beautiful. \n",
    "> **she** is strong. \n",
    "\n",
    "Translate these into Hungarian and back via Google Translate, and here's what you'll get: \n",
    "\n",
    "> **she** cooks.\n",
    "> **he** is a political leader.\n",
    "> **he** is an engineer.\n",
    "> **she** is cleaning.\n",
    "> **she** is beautiful.\n",
    "> **he** is strong.\n",
    "\n",
    "Considering that English *has* a gender neutral pronoun (*they*), this would be an easy item to fix, which Google has thus far declined to do. \n",
    "\n",
    "### 3. Historical Racial and Gender Biases\n",
    "\n",
    "Google Search has a striking history of bias against Black people, especially Black women. This bias was made widely public by UCLA professor Safiya Noble in her book *Algorithms of Oppression*. In one of Dr. Nobel's most famous examples, top results for the phrase \"black girls\" in 2011 consisted of links to porn sites, which did not hold true of searches for \"white girls\" or \"black men.\" As late as 2016, an image search for \"gorillas\" would surface pictures of Black individuals. You can find a brief synopsis of some of Dr. Noble's findings [here](https://time.com/5209144/google-search-engine-algorithm-bias-racism/) (content warning: highly sexually explicit language).  Google has since taken steps to improve these specific examples. "
   ]
  },
  {
   "cell_type": "markdown",
   "id": "planned-edition",
   "metadata": {
    "id": "planned-edition"
   },
   "source": [
    "Keeping these items in mind, let's now begin our study of machine learning via Tensorflow. \n",
    "\n",
    "## Tensors\n",
    "\n",
    "So, uh, what's a tensor? As you may remember from Riemannian geometry, a prerequisite for this class, \n",
    "\n",
    "> An $s$-contravariant and $t$-covariant *tensor* $\\sigma$ on a vector space $V$ is a multilinear map $\\sigma: \\left(V^*\\right)^s \\times V^t \\rightarrow \\mathbb{R}$, where $V^*$ denotes the space of linear functions on $V$...  \n",
    "\n",
    "<br> <br>\n",
    "\n",
    "Just kidding! A tensor is pretty much just a Numpy array. \n",
    "\n",
    "<figure class=\"image\" style=\"width:40%\">\n",
    "  <img src=\"https://raw.githubusercontent.com/PhilChodrow/PIC16B/master/_images/tensor.jpeg\" alt=\"\">\n",
    "  <figcaption><i></i></figcaption>\n",
    "</figure>\n",
    "\n",
    "Here's another one in case that one didn't sink in: \n",
    "\n",
    "<figure class=\"image\" style=\"width:40%\">\n",
    "  <img src=\"https://raw.githubusercontent.com/PhilChodrow/PIC16B/master/_images/tensor-2.jpeg\" alt=\"\">\n",
    "  <figcaption><i></i></figcaption>\n",
    "</figure>\n",
    "\n",
    "Most of the time, we'll work with 2-dimensional tensors (matrices), with the occasional 3-dimensional tensor thrown in for spice. "
   ]
  },
  {
   "cell_type": "markdown",
   "id": "existing-climb",
   "metadata": {
    "id": "existing-climb"
   },
   "source": [
    "## Structure of Neural Networks\n",
    "\n",
    "Before we start working with TensorFlow, I'd like to build up our understanding of what a neural network actually does to data. We'll see that neural networks are built up of very simple mathematical transformations, which are then stacked on top of each other to produce complex models. \n",
    "\n",
    "Suppose I have a data point $x$, with 5 features (columns): "
   ]
  },
  {
   "cell_type": "code",
   "execution_count": null,
   "id": "scenic-functionality",
   "metadata": {
    "id": "scenic-functionality",
    "outputId": "2fd23776-080d-4d4a-9d45-080609adb80e"
   },
   "outputs": [
    {
     "data": {
      "text/plain": [
       "array([0.98099448, 0.78543795, 0.92410204, 0.9379655 , 0.29385594])"
      ]
     },
     "execution_count": 1,
     "metadata": {},
     "output_type": "execute_result"
    }
   ],
   "source": [
    "import numpy as np\n",
    "x = np.random.rand(5)\n",
    "x"
   ]
  },
  {
   "cell_type": "markdown",
   "id": "acute-wings",
   "metadata": {
    "id": "acute-wings"
   },
   "source": [
    "A single *unit* of a neural network has two stages: \n",
    "\n",
    "1. The unit takes the entries of $x$, multiplies them by some *weights*, and adds them together, forming the linear combination $y = \\sum_i w_i x_i$. This number $y$ is often called the *activation*. \n",
    "2. Second, the unit hits $y$ with a non-linear function, producing a new output $z$: $z = g(y)$. \n",
    "\n",
    "A common nonlinear function is the sigmoid (same function as used in logistic regression): "
   ]
  },
  {
   "cell_type": "code",
   "execution_count": null,
   "id": "neural-sunglasses",
   "metadata": {
    "id": "neural-sunglasses",
    "outputId": "3e624f39-ebfb-421f-9630-9494a41cf24a"
   },
   "outputs": [
    {
     "data": {
      "text/plain": [
       "[<matplotlib.lines.Line2D at 0x7face1055400>]"
      ]
     },
     "execution_count": 2,
     "metadata": {},
     "output_type": "execute_result"
    }
   ],
   "source": [
    "from matplotlib import pyplot as plt\n",
    "sigmoid = lambda x: 1 / (1 + np.exp(-x))\n",
    "X = np.linspace(-10, 10)\n",
    "plt.plot(X, sigmoid(X))"
   ]
  },
  {
   "cell_type": "markdown",
   "id": "exciting-fortune",
   "metadata": {
    "id": "exciting-fortune"
   },
   "source": [
    "So, given a weight vector $w$, we can easily compute the layer output  for $x$, remembering that `w @ x` will calculate the inner product for us. "
   ]
  },
  {
   "cell_type": "code",
   "execution_count": null,
   "id": "lasting-reference",
   "metadata": {
    "id": "lasting-reference",
    "outputId": "ad61f85c-2354-494d-e5a2-8c84f83a0d96"
   },
   "outputs": [
    {
     "data": {
      "text/plain": [
       "0.7548699897807329"
      ]
     },
     "execution_count": 3,
     "metadata": {},
     "output_type": "execute_result"
    }
   ],
   "source": [
    "w = np.random.rand(5)\n",
    "z = sigmoid(w @ x)\n",
    "z"
   ]
  },
  {
   "cell_type": "markdown",
   "id": "challenging-victoria",
   "metadata": {
    "id": "challenging-victoria"
   },
   "source": [
    "In practice, we perform this computation using many data points and many units simultaneously. In this case, we can represent the data points as an $m \\times n$ matrix $\\mathbf{X}$, where $m$ is the number of data points and $n$ is the number of columns. We can represent the matrix of weights as an $p \\times n$ matrix $\\mathbf{W}$, where $p$ is the number of units in the layer. We can then compute all the activations simultaneously by computing the matrix product $\\mathbf{Y} = \\mathbf{W} \\mathbf{X}^T$. \n",
    "\n",
    "Here's a nice picture from the [website of Jeremy Jordan](https://www.jeremyjordan.me/intro-to-neural-networks/) to visualize what's going on. In this diagram, `a` is the activation (what I've been calling $y$). \n",
    "\n",
    "![](https://www.jeremyjordan.me/content/images/2018/01/Screen-Shot-2017-11-07-at-12.53.07-PM.png)\n",
    "\n",
    "We can then hit $\\mathbf{Y}$ with the sigmoid function (entrywise) to form the output $\\mathbf{Z}$. "
   ]
  },
  {
   "cell_type": "code",
   "execution_count": null,
   "id": "intelligent-identity",
   "metadata": {
    "id": "intelligent-identity"
   },
   "outputs": [],
   "source": [
    "m = 100\n",
    "n = 5\n",
    "p = 10\n",
    "X = np.random.rand(m, n)\n",
    "W = 1/p * np.random.rand(p, n)\n",
    "\n",
    "new_X = sigmoid(W @ X.T)"
   ]
  },
  {
   "cell_type": "markdown",
   "id": "clear-brighton",
   "metadata": {
    "id": "clear-brighton"
   },
   "source": [
    "Here's the thing: we now have a *new* matrix, that I'll call $\\mathbf{X}_1$, of size $p \\times m$. We can now plug that into a NEW layer, getting a new matrix $\\mathbf{X}_2$. We can plug THAT into a new layer, etc. By composing all these operations, we get a single, multistage function. **This is a deep neural network.** At the end of the pipeline, we should make sure we have an output that corresponds to the task we want to perform. For example, if we want to do binary classification (classification between two categories), we our weights to look something like this: "
   ]
  },
  {
   "cell_type": "code",
   "execution_count": null,
   "id": "amazing-sleeping",
   "metadata": {
    "id": "amazing-sleeping",
    "outputId": "a76bedf8-c2f1-4272-d475-cb530cbe3d9f"
   },
   "outputs": [
    {
     "data": {
      "text/plain": [
       "(2, 10)"
      ]
     },
     "execution_count": 5,
     "metadata": {},
     "output_type": "execute_result"
    }
   ],
   "source": [
    "W = 1/2 * np.random.rand(2, m)\n",
    "output = sigmoid(W @ new_X.T)\n",
    "output.shape"
   ]
  },
  {
   "cell_type": "markdown",
   "id": "functioning-shell",
   "metadata": {
    "id": "functioning-shell"
   },
   "source": [
    "The dimension of size 2 holds numbers describing the model's confidence in each of the two categories. At the moment, of course, we haven't done anything like fitting our model to data, so these predictions aren't meaningful (yet).\n",
    "\n",
    "Note that, while we don't have any control over the data $\\mathbf{X}$, we are free to choose the weights $\\mathbf{W}$ however we please. Traiing a neural network corresponds to the task of choosing these weights in such a way as to appropriately match the data. \n",
    "\n",
    "In summary, at the core of neural networks are the operations of (a) matrix multiplication and (b) simple, nonlinear functions. These are stacked on top of each other (composed) to produce sophisticated models. Naturally, we are not going to do all our bookkeeping of weights and dimensions and whatnot by hand. Managing this bookkeeping is precisely what TensorFlow is for. "
   ]
  },
  {
   "cell_type": "markdown",
   "id": "cloudy-overview",
   "metadata": {
    "id": "cloudy-overview"
   },
   "source": [
    "## TensorFlow Basics"
   ]
  },
  {
   "cell_type": "code",
   "execution_count": null,
   "id": "sitting-candle",
   "metadata": {
    "id": "sitting-candle"
   },
   "outputs": [],
   "source": [
    "import tensorflow as tf\n",
    "import numpy as np"
   ]
  },
  {
   "cell_type": "markdown",
   "id": "conceptual-sensitivity",
   "metadata": {
    "id": "conceptual-sensitivity"
   },
   "source": [
    "We can create a simple, \"constant\" tensor using `tf.constant`: "
   ]
  },
  {
   "cell_type": "code",
   "execution_count": null,
   "id": "extreme-electricity",
   "metadata": {
    "id": "extreme-electricity",
    "outputId": "d7e3512a-90b7-4659-b69b-552043dab469"
   },
   "outputs": [
    {
     "data": {
      "text/plain": [
       "<tf.Tensor: shape=(3,), dtype=int32, numpy=array([1, 2, 3], dtype=int32)>"
      ]
     },
     "execution_count": 7,
     "metadata": {},
     "output_type": "execute_result"
    }
   ],
   "source": [
    "s = tf.constant([1, 2, 3])\n",
    "s"
   ]
  },
  {
   "cell_type": "markdown",
   "id": "unable-webmaster",
   "metadata": {
    "id": "unable-webmaster"
   },
   "source": [
    "As you can see from the output, this object has a `shape`, a `dtype`, and even an internal `numpy` representation -- it really is a lot like a `numpy` array! Like `numpy` arrays, we can do various mathematical operations: "
   ]
  },
  {
   "cell_type": "code",
   "execution_count": null,
   "id": "irish-custom",
   "metadata": {
    "id": "irish-custom",
    "outputId": "c0ce595c-1c4e-42ce-a4f7-94f3c832d638"
   },
   "outputs": [
    {
     "data": {
      "text/plain": [
       "<tf.Tensor: shape=(3,), dtype=int32, numpy=array([2, 4, 6], dtype=int32)>"
      ]
     },
     "execution_count": 8,
     "metadata": {},
     "output_type": "execute_result"
    }
   ],
   "source": [
    "2*s"
   ]
  },
  {
   "cell_type": "code",
   "execution_count": null,
   "id": "hollow-oakland",
   "metadata": {
    "id": "hollow-oakland",
    "outputId": "c4078a67-8d63-48ca-e4c2-47ccb8c96149"
   },
   "outputs": [
    {
     "data": {
      "text/plain": [
       "<tf.Tensor: shape=(3,), dtype=int32, numpy=array([3, 4, 3], dtype=int32)>"
      ]
     },
     "execution_count": 9,
     "metadata": {},
     "output_type": "execute_result"
    }
   ],
   "source": [
    "t = tf.constant([3, 2, 1])\n",
    "s*t"
   ]
  },
  {
   "cell_type": "markdown",
   "id": "defined-programmer",
   "metadata": {
    "id": "defined-programmer"
   },
   "source": [
    "There *is* a reason that we use `tf.Tensor` rather than Numpy array objects. One of the primary reasons is that the tensor data type is set up to support *automatic differentiation*, which is important when it comes time to train our models. That said, it's sometimes useful to convert back to literal Numpy arrays, which can usually be done like this: "
   ]
  },
  {
   "cell_type": "code",
   "execution_count": null,
   "id": "incorporated-product",
   "metadata": {
    "id": "incorporated-product",
    "outputId": "3c29fe46-7e59-46ed-a711-2ab607a1483e"
   },
   "outputs": [
    {
     "data": {
      "text/plain": [
       "array([1, 2, 3], dtype=int32)"
      ]
     },
     "execution_count": 10,
     "metadata": {},
     "output_type": "execute_result"
    }
   ],
   "source": [
    "s.numpy()"
   ]
  },
  {
   "cell_type": "markdown",
   "id": "quality-muslim",
   "metadata": {
    "id": "quality-muslim"
   },
   "source": [
    "Really, they could have called the whole thing ArrayFlow or RectanglesOfNumbersFlow, but those don't really say \"I am a very smart person\" in quite the same way. \n",
    "\n",
    "### Dtypes\n",
    "\n",
    "Because computation on 64-bit floating point numbers can be quite expensive at scale, most operations in TensorFlow prefer that you supply floating point numbers with data type `float32`. For example: "
   ]
  },
  {
   "cell_type": "code",
   "execution_count": null,
   "id": "still-timeline",
   "metadata": {
    "id": "still-timeline",
    "outputId": "d0a97a6d-63d9-44ae-9b1a-1df655e11245"
   },
   "outputs": [
    {
     "data": {
      "text/plain": [
       "<tf.Tensor: shape=(3,), dtype=float32, numpy=array([1.2, 3.3, 5.6], dtype=float32)>"
      ]
     },
     "execution_count": 11,
     "metadata": {},
     "output_type": "execute_result"
    }
   ],
   "source": [
    "tf.constant([1.2, 3.3, 5.6], dtype = np.float32)"
   ]
  },
  {
   "cell_type": "markdown",
   "id": "nearby-manual",
   "metadata": {
    "id": "nearby-manual"
   },
   "source": [
    "Supplying `float64` data types will usually lead to annoying warning messages, and possibly slower performance. \n",
    "\n",
    "While it's good to know what tensors are and how they work, we usually won't need to construct them explicitly. Rather, we'll be able to feed Numpy arrays to our models, which will handle all the tensor operations internally. "
   ]
  },
  {
   "cell_type": "markdown",
   "id": "spare-reading",
   "metadata": {
    "id": "spare-reading"
   },
   "source": [
    "## Layers\n",
    "\n",
    "*Layers* are the building blocks of models. You can think of a layer as a function that takes in one tensor and spits out another tensor, possibly of a different shape. Many layers have requirements on the kinds of tensors they admit; for example, they might only work on 2d tensors.\n",
    "\n",
    "In this course, we'll always work with layers via the high-level Keras API, which allows us to easily create and combine layers. "
   ]
  },
  {
   "cell_type": "code",
   "execution_count": null,
   "id": "neural-pursuit",
   "metadata": {
    "id": "neural-pursuit"
   },
   "outputs": [],
   "source": [
    "from tensorflow.keras import layers"
   ]
  },
  {
   "cell_type": "code",
   "execution_count": null,
   "id": "liable-rolling",
   "metadata": {
    "id": "liable-rolling",
    "outputId": "1af9a142-629a-43e0-8caf-4998b9732f1a"
   },
   "outputs": [
    {
     "name": "stdout",
     "output_type": "stream",
     "text": [
      "[[0.91675233 0.80400205 0.57491347]\n",
      " [0.22203822 0.73285059 0.27315122]\n",
      " [0.7980964  0.07866318 0.28885657]\n",
      " [0.57509534 0.90130819 0.94063999]\n",
      " [0.50468387 0.44000711 0.40918258]\n",
      " [0.97264068 0.89078885 0.44134867]\n",
      " [0.65042844 0.62029511 0.31041927]\n",
      " [0.19129704 0.59615542 0.15181679]\n",
      " [0.76083781 0.61800561 0.80376453]\n",
      " [0.71669399 0.32181498 0.47849256]]\n"
     ]
    }
   ],
   "source": [
    "data = np.random.rand(10, 3)\n",
    "print(data)"
   ]
  },
  {
   "cell_type": "code",
   "execution_count": null,
   "id": "gentle-graduate",
   "metadata": {
    "id": "gentle-graduate"
   },
   "outputs": [],
   "source": [
    "data = tf.constant(data, dtype=np.float32)"
   ]
  },
  {
   "cell_type": "markdown",
   "id": "instrumental-attachment",
   "metadata": {
    "id": "instrumental-attachment"
   },
   "source": [
    "Now we can create a layer. Note that we first have to *make* the layer before we *call* the layer on any data. The `Dense` layer is the simplest and among the most generally useful kinds of layers, and corresponds fairly directly to the computations that we described \"by hand\" above. "
   ]
  },
  {
   "cell_type": "code",
   "execution_count": null,
   "id": "capable-median",
   "metadata": {
    "id": "capable-median",
    "outputId": "d4e33668-f8cb-4972-d193-d73db7224347"
   },
   "outputs": [
    {
     "data": {
      "text/plain": [
       "<tf.Tensor: shape=(10, 2), dtype=float32, numpy=\n",
       "array([[-0.05159355, -0.5323487 ],\n",
       "       [-0.06075069, -0.25465587],\n",
       "       [ 0.04440692, -0.37592724],\n",
       "       [-0.35148603,  0.05943757],\n",
       "       [-0.08316082, -0.19816832],\n",
       "       [ 0.04675781, -0.7534586 ],\n",
       "       [ 0.02366694, -0.500354  ],\n",
       "       [-0.00513858, -0.28668076],\n",
       "       [-0.23807055, -0.08795483],\n",
       "       [-0.07491072, -0.23807077]], dtype=float32)>"
      ]
     },
     "execution_count": 15,
     "metadata": {},
     "output_type": "execute_result"
    }
   ],
   "source": [
    "first_layer = layers.Dense(units = 2)\n",
    "first_layer(data)"
   ]
  },
  {
   "cell_type": "markdown",
   "id": "willing-annotation",
   "metadata": {
    "id": "willing-annotation"
   },
   "source": [
    "The `units` argument controls the shape of the output. The `Dense` layer interprets an `m` $\\times$ `n` tensor as a set of data points with `m` rows and `n` columns (or features). It outputs a new tensor with `m` rows and `units` columns. So, you can think of `units` as controlling the number of *hidden features* learned by this layer. \n",
    "\n",
    "What's the deal with the actual outputs? Well, as we saw above, this layer has parameters (*weights*) which control how these numbers are calculated. Because we haven't done any model training, these weights are pretty much random, so the output is random as well. We'll look at training the model in the next section. "
   ]
  },
  {
   "cell_type": "markdown",
   "id": "sporting-drunk",
   "metadata": {
    "id": "sporting-drunk"
   },
   "source": [
    "## Models\n",
    "\n",
    "A model consists of: \n",
    "\n",
    "- A sequence of layers. The final layer is an *output* layer, and plays a major role in determining what \"kind\" of model we have (e.g. regression vs. classification). \n",
    "- Specs for how the model should be fit to data. The most important choice to make here is the *loss function*, which governs how, mathematically, the model will be judged on its performance.\n",
    "\n",
    "Let's download some real data, create a model, and evaluate its performance. "
   ]
  },
  {
   "cell_type": "code",
   "execution_count": null,
   "id": "certified-foster",
   "metadata": {
    "id": "certified-foster"
   },
   "outputs": [],
   "source": [
    "import pandas as pd\n",
    "from sklearn.preprocessing import LabelEncoder\n",
    "from sklearn.model_selection import train_test_split\n",
    "\n",
    "# #BestData\n",
    "url = \"https://philchodrow.github.io/PIC16A/datasets/palmer_penguins.csv\"\n",
    "penguins = pd.read_csv(url)\n",
    "\n",
    "# only use these columns\n",
    "df = penguins[[\"Culmen Length (mm)\", \"Culmen Depth (mm)\", \"Flipper Length (mm)\",  \"Species\"]]\n",
    "df = df.dropna()\n",
    "\n",
    "# categorically encode the \"Species\" column\n",
    "le = LabelEncoder()\n",
    "y = le.fit_transform(df[\"Species\"])\n",
    "\n",
    "# predictor data\n",
    "X = df[[\"Culmen Length (mm)\", \"Culmen Depth (mm)\", \"Flipper Length (mm)\"]]\n",
    "\n",
    "# convert to numpy array\n",
    "X = np.array(X, dtype = np.float32)\n",
    "\n",
    "# train-test split\n",
    "X_train, X_test, y_train, y_test = train_test_split(X, y, test_size = 0.3)"
   ]
  },
  {
   "cell_type": "code",
   "execution_count": null,
   "id": "suspended-rates",
   "metadata": {
    "id": "suspended-rates",
    "outputId": "6c3a8be4-ac59-49f6-da0f-52aae1c98517"
   },
   "outputs": [
    {
     "data": {
      "text/plain": [
       "array([[ 50.2,  18.7, 198. ],\n",
       "       [ 55.9,  17. , 228. ],\n",
       "       [ 43.2,  16.6, 187. ],\n",
       "       [ 40.9,  18.9, 184. ],\n",
       "       [ 48.7,  14.1, 210. ]], dtype=float32)"
      ]
     },
     "execution_count": 17,
     "metadata": {},
     "output_type": "execute_result"
    }
   ],
   "source": [
    "X_train[:5] # first five rows of predictor data"
   ]
  },
  {
   "cell_type": "code",
   "execution_count": null,
   "id": "remarkable-istanbul",
   "metadata": {
    "id": "remarkable-istanbul",
    "outputId": "74625681-52cd-4780-b3de-e2523aa9ff74"
   },
   "outputs": [
    {
     "data": {
      "text/plain": [
       "array([1, 2, 1, 0, 2])"
      ]
     },
     "execution_count": 18,
     "metadata": {},
     "output_type": "execute_result"
    }
   ],
   "source": [
    "y_train[:5] # first five rows of target data"
   ]
  },
  {
   "cell_type": "markdown",
   "id": "central-baptist",
   "metadata": {
    "id": "central-baptist"
   },
   "source": [
    "The simplest way to make a model is by using the `tf.keras.models.Sequential` API, which allows you to construct a model by simply passing a list of layers. Let's do two \"hidden\" layers of 500 units each, and then an output layer of 3 units (corresponding to 3 penguin species). If you've used the [multilayer perceptron algorithm](https://scikit-learn.org/stable/modules/generated/sklearn.neural_network.MLPClassifier.html) from `scikit-learn` before, the model below is essentially a multilayer perceptron with parameter `hidden_layer_sizes = (500, 500)`. \n",
    "\n",
    "Specifying the `input_shape` in the first layer is not actually necessary unless you want to see the `summary` below. Otherwise, the shape will be inferred the first time you fit the model. "
   ]
  },
  {
   "cell_type": "code",
   "execution_count": null,
   "id": "mighty-objective",
   "metadata": {
    "id": "mighty-objective"
   },
   "outputs": [],
   "source": [
    "model = tf.keras.models.Sequential([\n",
    "    layers.Dense(500, input_shape = (3,), activation='relu'),\n",
    "    layers.Dense(500, activation='relu'),\n",
    "    layers.Dense(3)\n",
    "])"
   ]
  },
  {
   "cell_type": "markdown",
   "id": "above-sudan",
   "metadata": {
    "id": "above-sudan"
   },
   "source": [
    "This `input_shape` specifies that each data point has three features. Note that `(3,)` is a tuple with one element; `(3)` wouldn't work here because Python interprets that as just the number `3`.  \n",
    "\n",
    "The reason we've chosen the final layer to output 3 numbers is that there are 3 species in the data. \n",
    "\n",
    "The `model.summary()` is a nice way to get an overview of what's been baked into the model. "
   ]
  },
  {
   "cell_type": "code",
   "execution_count": null,
   "id": "wired-liberty",
   "metadata": {
    "id": "wired-liberty",
    "outputId": "9f8b91c2-1fec-46b5-f0fa-8c73311ec106"
   },
   "outputs": [
    {
     "name": "stdout",
     "output_type": "stream",
     "text": [
      "Model: \"sequential\"\n",
      "_________________________________________________________________\n",
      "Layer (type)                 Output Shape              Param #   \n",
      "=================================================================\n",
      "dense_1 (Dense)              (None, 500)               2000      \n",
      "_________________________________________________________________\n",
      "dense_2 (Dense)              (None, 500)               250500    \n",
      "_________________________________________________________________\n",
      "dense_3 (Dense)              (None, 3)                 1503      \n",
      "=================================================================\n",
      "Total params: 254,003\n",
      "Trainable params: 254,003\n",
      "Non-trainable params: 0\n",
      "_________________________________________________________________\n"
     ]
    }
   ],
   "source": [
    "model.summary()"
   ]
  },
  {
   "cell_type": "markdown",
   "id": "removed-convenience",
   "metadata": {
    "id": "removed-convenience"
   },
   "source": [
    "Wow -- 250K parameters in this model! Large numbers of parameters allow your model to learn more complex relationships in your data, but also take longer to train and can lead to overfitting. Checking your model summary is usually a good idea, as it can help you get a feeling for the training time required for your model. "
   ]
  },
  {
   "cell_type": "markdown",
   "id": "atomic-diabetes",
   "metadata": {
    "id": "atomic-diabetes"
   },
   "source": [
    "Let's make some \"predictions\":"
   ]
  },
  {
   "cell_type": "code",
   "execution_count": null,
   "id": "spanish-kernel",
   "metadata": {
    "id": "spanish-kernel",
    "outputId": "af798997-1461-41a2-86cf-3a9b2ab5e4c0"
   },
   "outputs": [
    {
     "data": {
      "text/plain": [
       "<tf.Tensor: shape=(5, 3), dtype=float32, numpy=\n",
       "array([[  3.0709813,   8.919669 , -18.5457   ],\n",
       "       [  3.4788127,  10.365278 , -21.318262 ],\n",
       "       [  2.6512136,   8.626654 , -17.725702 ],\n",
       "       [  2.478286 ,   8.534117 , -17.602919 ],\n",
       "       [  3.0841246,   9.682065 , -19.754969 ]], dtype=float32)>"
      ]
     },
     "execution_count": 21,
     "metadata": {},
     "output_type": "execute_result"
    }
   ],
   "source": [
    "model(X_train[:5])"
   ]
  },
  {
   "cell_type": "markdown",
   "id": "double-intake",
   "metadata": {
    "id": "double-intake"
   },
   "source": [
    "These are predictions for the first 5 rows of the data set. Each row is a specific penguin, and each column is one of the three species. The number in the column is related to the model's guess about the species. To convert these into probabilities, we use the `Softmax` layer: "
   ]
  },
  {
   "cell_type": "code",
   "execution_count": null,
   "id": "scheduled-cinema",
   "metadata": {
    "id": "scheduled-cinema",
    "outputId": "646adc42-3ad9-40f3-c739-f89ae4b0b149"
   },
   "outputs": [
    {
     "data": {
      "text/plain": [
       "<tf.Tensor: shape=(5, 3), dtype=float32, numpy=\n",
       "array([[2.8753879e-03, 9.9712461e-01, 1.1767676e-12],\n",
       "       [1.0204755e-03, 9.9897951e-01, 1.7360804e-14],\n",
       "       [2.5339469e-03, 9.9746609e-01, 3.5827404e-12],\n",
       "       [2.3386711e-03, 9.9766135e-01, 4.4443975e-12],\n",
       "       [1.3613170e-03, 9.9863869e-01, 1.6408417e-13]], dtype=float32)>"
      ]
     },
     "execution_count": 22,
     "metadata": {},
     "output_type": "execute_result"
    }
   ],
   "source": [
    "softmax = tf.keras.layers.Softmax()\n",
    "softmax(model(X_train[:5]))"
   ]
  },
  {
   "cell_type": "markdown",
   "id": "described-force",
   "metadata": {
    "id": "described-force"
   },
   "source": [
    "The model hasn't been trained yet, so these \"predictions\" don't really mean anything. "
   ]
  },
  {
   "cell_type": "markdown",
   "id": "married-correction",
   "metadata": {
    "id": "married-correction"
   },
   "source": [
    "### Model Training\n",
    "\n",
    "Training has two stages. First we *compile* the model, by specifying the loss function and optimization algorithm. Then, we perform the actual training. The choice of loss function is highly dependent on your problem domain. For classification problems, categorical cross-entropy is a good one.  Finally, the `metrics` argument is helpful for controlling which model performance measures are shown when training or evaluating the model. "
   ]
  },
  {
   "cell_type": "code",
   "execution_count": null,
   "id": "sexual-performer",
   "metadata": {
    "id": "sexual-performer"
   },
   "outputs": [],
   "source": [
    "loss_fn = tf.keras.losses.SparseCategoricalCrossentropy(from_logits=True)\n",
    "model.compile(optimizer = \"adam\",\n",
    "              loss = loss_fn,\n",
    "              metrics = [\"accuracy\"])"
   ]
  },
  {
   "cell_type": "markdown",
   "id": "blocked-theater",
   "metadata": {
    "id": "blocked-theater"
   },
   "source": [
    "Finally ready for training! "
   ]
  },
  {
   "cell_type": "code",
   "execution_count": null,
   "id": "biblical-exhaust",
   "metadata": {
    "id": "biblical-exhaust",
    "outputId": "5e49103f-effb-49b5-8e5d-669fe567e8a8"
   },
   "outputs": [
    {
     "name": "stdout",
     "output_type": "stream",
     "text": [
      "Epoch 1/20\n",
      "8/8 [==============================] - 0s 3ms/step - loss: 15.3548 - accuracy: 0.3414\n",
      "Epoch 2/20\n",
      "8/8 [==============================] - 0s 3ms/step - loss: 10.0421 - accuracy: 0.3397\n",
      "Epoch 3/20\n",
      "8/8 [==============================] - 0s 3ms/step - loss: 3.3719 - accuracy: 0.4255\n",
      "Epoch 4/20\n",
      "8/8 [==============================] - 0s 4ms/step - loss: 2.9070 - accuracy: 0.3813\n",
      "Epoch 5/20\n",
      "8/8 [==============================] - 0s 5ms/step - loss: 2.1619 - accuracy: 0.3834\n",
      "Epoch 6/20\n",
      "8/8 [==============================] - 0s 6ms/step - loss: 0.9913 - accuracy: 0.4638\n",
      "Epoch 7/20\n",
      "8/8 [==============================] - 0s 6ms/step - loss: 0.6670 - accuracy: 0.7175\n",
      "Epoch 8/20\n",
      "8/8 [==============================] - 0s 6ms/step - loss: 0.4460 - accuracy: 0.8686\n",
      "Epoch 9/20\n",
      "8/8 [==============================] - 0s 5ms/step - loss: 0.3422 - accuracy: 0.9700\n",
      "Epoch 10/20\n",
      "8/8 [==============================] - 0s 5ms/step - loss: 0.3486 - accuracy: 0.9206\n",
      "Epoch 11/20\n",
      "8/8 [==============================] - 0s 4ms/step - loss: 0.3575 - accuracy: 0.9285\n",
      "Epoch 12/20\n",
      "8/8 [==============================] - 0s 4ms/step - loss: 0.3586 - accuracy: 0.9118\n",
      "Epoch 13/20\n",
      "8/8 [==============================] - 0s 4ms/step - loss: 0.3642 - accuracy: 0.8875\n",
      "Epoch 14/20\n",
      "8/8 [==============================] - 0s 4ms/step - loss: 0.4482 - accuracy: 0.8747\n",
      "Epoch 15/20\n",
      "8/8 [==============================] - 0s 4ms/step - loss: 0.3574 - accuracy: 0.8997\n",
      "Epoch 16/20\n",
      "8/8 [==============================] - 0s 4ms/step - loss: 0.2935 - accuracy: 0.9092\n",
      "Epoch 17/20\n",
      "8/8 [==============================] - 0s 4ms/step - loss: 0.2674 - accuracy: 0.9407\n",
      "Epoch 18/20\n",
      "8/8 [==============================] - 0s 4ms/step - loss: 0.2316 - accuracy: 0.9378\n",
      "Epoch 19/20\n",
      "8/8 [==============================] - 0s 4ms/step - loss: 0.2693 - accuracy: 0.9095\n",
      "Epoch 20/20\n",
      "8/8 [==============================] - 0s 4ms/step - loss: 0.3450 - accuracy: 0.8622\n"
     ]
    }
   ],
   "source": [
    "history = model.fit(X_train, y_train, epochs = 20, verbose=1)"
   ]
  },
  {
   "cell_type": "markdown",
   "id": "thirty-lecture",
   "metadata": {
    "id": "thirty-lecture"
   },
   "source": [
    "It's handy to save the model output, as this can then be used to plot the progress of the training over time: "
   ]
  },
  {
   "cell_type": "code",
   "execution_count": null,
   "id": "smooth-consciousness",
   "metadata": {
    "id": "smooth-consciousness",
    "outputId": "9307211f-166d-4b8e-bd76-ce8e919b0d60"
   },
   "outputs": [
    {
     "data": {
      "text/plain": [
       "[Text(0.5, 0, 'epoch'), Text(0, 0.5, 'training accuracy')]"
      ]
     },
     "execution_count": 25,
     "metadata": {},
     "output_type": "execute_result"
    },
    {
     "data": {
      "image/png": "[encoded data removed]",
      "text/plain": [
       "<Figure size 432x288 with 1 Axes>"
      ]
     },
     "metadata": {
      "needs_background": "light"
     },
     "output_type": "display_data"
    }
   ],
   "source": [
    "plt.plot(history.history[\"accuracy\"])\n",
    "plt.gca().set(xlabel = \"epoch\", ylabel = \"training accuracy\")"
   ]
  },
  {
   "cell_type": "markdown",
   "id": "unlimited-monday",
   "metadata": {
    "id": "unlimited-monday"
   },
   "source": [
    "Now we can evaluate the model on our test data: "
   ]
  },
  {
   "cell_type": "code",
   "execution_count": null,
   "id": "generic-somerset",
   "metadata": {
    "id": "generic-somerset",
    "outputId": "ced6f4e3-2c83-4823-977a-f2faece79612"
   },
   "outputs": [
    {
     "name": "stdout",
     "output_type": "stream",
     "text": [
      "4/4 - 0s - loss: 0.2142 - accuracy: 0.9417\n"
     ]
    },
    {
     "data": {
      "text/plain": [
       "[0.21423479914665222, 0.9417475461959839]"
      ]
     },
     "execution_count": 26,
     "metadata": {},
     "output_type": "execute_result"
    }
   ],
   "source": [
    "model.evaluate(X_test, y_test, verbose = 2)"
   ]
  },
  {
   "cell_type": "markdown",
   "id": "appropriate-draft",
   "metadata": {
    "id": "appropriate-draft"
   },
   "source": [
    "Our model is able to correctly predict the species of a penguin based on its culmen length, culmen depth, and flipper length around 95% of the time. Not bad! Further training (by choosing more `epochs` in `model.fit` could potentially improve this further---or lead to overfitting. \n",
    "\n",
    "### Prediction Probabilities\n",
    "\n",
    "A minor annoyance is that, even after training, our model still doesn't have very interpretable outputs: "
   ]
  },
  {
   "cell_type": "code",
   "execution_count": null,
   "id": "perfect-lying",
   "metadata": {
    "id": "perfect-lying",
    "outputId": "c37951ff-b2ba-4ac8-cd2c-5813aa7fae60"
   },
   "outputs": [
    {
     "data": {
      "text/plain": [
       "<tf.Tensor: shape=(5, 3), dtype=float32, numpy=\n",
       "array([[-3.6942892, -2.6168573, -3.5932558],\n",
       "       [-5.6353717, -4.760679 , -1.2103517],\n",
       "       [-2.390355 , -4.438276 , -2.634065 ],\n",
       "       [-0.5668623, -4.493678 , -4.1826735],\n",
       "       [-4.853306 , -5.8647766, -0.0745165]], dtype=float32)>"
      ]
     },
     "execution_count": 27,
     "metadata": {},
     "output_type": "execute_result"
    }
   ],
   "source": [
    "model(X_train[:5])"
   ]
  },
  {
   "cell_type": "markdown",
   "id": "stuffed-computer",
   "metadata": {
    "id": "stuffed-computer"
   },
   "source": [
    "Having trained our model, we can create a new, interpretable version by adding a Softmax layer. "
   ]
  },
  {
   "cell_type": "code",
   "execution_count": null,
   "id": "colonial-magnet",
   "metadata": {
    "id": "colonial-magnet"
   },
   "outputs": [],
   "source": [
    "prob_model = tf.keras.models.Sequential([\n",
    "    model, \n",
    "    layers.Softmax()\n",
    "])"
   ]
  },
  {
   "cell_type": "code",
   "execution_count": null,
   "id": "improving-briefing",
   "metadata": {
    "id": "improving-briefing",
    "outputId": "275d687b-6558-41bf-fe69-0c67d511f332"
   },
   "outputs": [
    {
     "data": {
      "text/plain": [
       "<tf.Tensor: shape=(5, 3), dtype=float32, numpy=\n",
       "array([[0.19827735, 0.58236575, 0.21935694],\n",
       "       [0.01150581, 0.02759253, 0.9609017 ],\n",
       "       [0.5228163 , 0.06744479, 0.409739  ],\n",
       "       [0.9554736 , 0.01882887, 0.02569756],\n",
       "       [0.0083109 , 0.00302254, 0.98866653]], dtype=float32)>"
      ]
     },
     "execution_count": 29,
     "metadata": {},
     "output_type": "execute_result"
    }
   ],
   "source": [
    "prob_model(X_train[:5])"
   ]
  },
  {
   "cell_type": "markdown",
   "id": "alternate-coral",
   "metadata": {
    "id": "alternate-coral"
   },
   "source": [
    "Each row now reflects the model's level of confidence that the given penguin is of the given species, which is much more interpretable. \n",
    "\n",
    "(*In case you're wondering, we don't include the Softmax layer in the model before we train it for numerical reasons*). "
   ]
  },
  {
   "cell_type": "markdown",
   "id": "affiliated-aggregate",
   "metadata": {
    "id": "affiliated-aggregate"
   },
   "source": [
    "Ok, but what if we actually want to get the predicted classes for each data point? The `argmax` method is good for this: it gives the index along the specified dimension in which an array has largest value. "
   ]
  },
  {
   "cell_type": "code",
   "execution_count": null,
   "id": "traditional-mention",
   "metadata": {
    "id": "traditional-mention",
    "outputId": "4522138c-cb4d-433e-f096-a6f52d1455d4"
   },
   "outputs": [
    {
     "data": {
      "text/plain": [
       "array([0, 2, 0, 0, 0, 1, 0, 2, 2, 0, 0, 0, 0, 0, 1, 2, 2, 2, 0, 0, 0, 0,\n",
       "       0, 2, 2, 0, 2, 1, 1, 0, 0, 0, 0, 0, 0, 0, 0, 0, 0, 0, 2, 0, 1, 2,\n",
       "       0, 2, 0, 0, 1, 0, 1, 0, 0, 0, 2, 2, 0, 2, 2, 0, 2, 2, 0, 1, 2, 1,\n",
       "       0, 0, 2, 0, 2, 2, 2, 0, 1, 0, 2, 2, 2, 0, 0, 0, 2, 2, 0, 0, 1, 0,\n",
       "       0, 2, 0, 0, 2, 2, 0, 2, 0, 2, 2, 2, 2, 2, 2])"
      ]
     },
     "execution_count": 30,
     "metadata": {},
     "output_type": "execute_result"
    }
   ],
   "source": [
    "predictions = prob_model.predict(X_test).argmax(axis = 1)\n",
    "predictions"
   ]
  },
  {
   "cell_type": "code",
   "execution_count": null,
   "id": "proper-stewart",
   "metadata": {
    "id": "proper-stewart",
    "outputId": "2e87e002-52e0-471f-ddfd-6de9848b9048"
   },
   "outputs": [
    {
     "data": {
      "text/plain": [
       "['Adelie Penguin (Pygoscelis adeliae)',\n",
       " 'Gentoo penguin (Pygoscelis papua)',\n",
       " 'Adelie Penguin (Pygoscelis adeliae)',\n",
       " 'Adelie Penguin (Pygoscelis adeliae)',\n",
       " 'Adelie Penguin (Pygoscelis adeliae)']"
      ]
     },
     "execution_count": 31,
     "metadata": {},
     "output_type": "execute_result"
    }
   ],
   "source": [
    "[le.classes_[predictions[i]] for i in range(5)]"
   ]
  },
  {
   "cell_type": "markdown",
   "id": "consecutive-familiar",
   "metadata": {
    "id": "consecutive-familiar"
   },
   "source": [
    "We have now shown all the components for a complete model pipelinem enabling species prediction on unseen data. "
   ]
  },
  {
   "cell_type": "markdown",
   "id": "similar-major",
   "metadata": {
    "id": "similar-major"
   },
   "source": [
    "## What's next? \n",
    "\n",
    "We've learned about tensors, layers, and models, and we've used a simple model to make predictions on a pretty small data set. In coming lectures, we'll ask questions like: \n",
    "\n",
    "- How can I represent text or images as tensors? \n",
    "- How can I perform classification, regression, or clustering tasks? \n",
    "- How can I interpret what my model is doing? \n",
    "- How can I speed up my model training? "
   ]
  }
 ],
 "metadata": {
  "colab": {
   "include_colab_link": true,
   "name": "tf-1.ipynb",
   "provenance": []
  },
  "kernelspec": {
   "display_name": "Python [conda env:PIC16B]",
   "language": "python",
   "name": "conda-env-PIC16B-py"
  },
  "language_info": {
   "codemirror_mode": {
    "name": "ipython",
    "version": 3
   },
   "file_extension": ".py",
   "mimetype": "text/x-python",
   "name": "python",
   "nbconvert_exporter": "python",
   "pygments_lexer": "ipython3",
   "version": "3.8.12"
  }
 },
 "nbformat": 4,
 "nbformat_minor": 5
}
